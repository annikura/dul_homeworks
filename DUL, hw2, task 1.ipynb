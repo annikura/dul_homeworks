{
 "cells": [
  {
   "cell_type": "code",
   "execution_count": null,
   "metadata": {},
   "outputs": [],
   "source": [
    "import numpy as np\n"
   ]
  },
  {
   "cell_type": "code",
   "execution_count": null,
   "metadata": {},
   "outputs": [],
   "source": [
    "def sample_data():\n",
    "    count = 100000\n",
    "    rand = np.random.RandomState(0)\n",
    "    a = [[-1.5, 2.5]] + rand.randn(count // 3, 2) * 0.2\n",
    "    b = [[1.5, 2.5]] + rand.randn(count // 3, 2) * 0.2\n",
    "    c = np.c_[2 * np.cos(np.linspace(0, np.pi, count // 3)),\n",
    "    -np.sin(np.linspace(0, np.pi, count // 3))]\n",
    "\n",
    "    c += rand.randn(*c.shape) * 0.2\n",
    "    data_x = np.concatenate([a, b, c], axis=0)\n",
    "    data_y = np.array([0] * len(a) + [1] * len(b) + [2] * len(c))\n",
    "    perm = rand.permutation(len(data_x))\n",
    "    return data_x[perm], data_y[perm]"
   ]
  },
  {
   "cell_type": "code",
   "execution_count": null,
   "metadata": {},
   "outputs": [],
   "source": [
    "class MLP(nn.Module):\n",
    "    def __init__(self, input_size, hidden_size, num_classes):\n",
    "        super(MLP, self).__init__()\n",
    "        self.theta_model = Model(input_size)\n",
    "        \n",
    "        self.input_size = input_size\n",
    "        self.num_classes = num_classes\n",
    "        \n",
    "        self.fc1 = nn.Linear(input_size, hidden_size) \n",
    "        self.relu = nn.ReLU()\n",
    "        self.fc2 = nn.Linear(hidden_size, num_classes)\n",
    "    \n",
    "    def forward(self, batch):\n",
    "        xs_batch = batch[:, 0]\n",
    "        ys_batch = batch[:, 1]\n",
    "        \n",
    "        xs_matrix = xs_batch[:, None] == np.arange(self.input_size)\n",
    "        \n",
    "        matrix = torch.tensor(xs_matrix).float()\n",
    "        \n",
    "        out = self.fc1(matrix)\n",
    "        out = self.relu(out)\n",
    "        out = self.fc2(out)\n",
    "        out = F.softmax(out, dim=1)\n",
    "        \n",
    "        xs_error = self.theta_model.forward(xs_batch)\n",
    "        ys_error = -torch.gather(out, 1, torch.tensor(ys_batch[:, None])).log().sum() / ys_batch.size\n",
    "        return xs_error + ys_error"
   ]
  },
  {
   "cell_type": "code",
   "execution_count": null,
   "metadata": {},
   "outputs": [],
   "source": [
    "class MADE(torch.nn.Module):\n",
    "    def __init__(self, size=400, hidden_layers=1):\n",
    "        super().__init__()\n",
    "        \n",
    "        self.size = size\n",
    "        \n",
    "        ms = [np.random.permutation(size)]\n",
    "        for _ in range(hidden_layers + 1):\n",
    "            ms.append(np.random.randint(ms[-1].min(), size, size=size))\n",
    "            \n",
    "        masks = []\n",
    "        for m, next_m in zip(ms, ms[1:]):\n",
    "            masks.append(torch.tensor((m[:,None] <= next_m[None,:])).float())\n",
    "        masks.append(torch.tensor((ms[-1][:,None] < ms[0][None,:])).float())\n",
    "            \n",
    "        layers = []\n",
    "            \n",
    "        for mask in masks:\n",
    "            layers.append(MaskedLinear(size, size, mask))\n",
    "            layers.append(nn.ReLU())\n",
    "        layers.pop()\n",
    "            \n",
    "        self.model = nn.Sequential(*layers)\n",
    "\n",
    "    def forward(self, batch):\n",
    "        xs_batch = batch[:, 0]\n",
    "        ys_batch = batch[:, 1]\n",
    "        \n",
    "        xs_matrix = xs_batch[:, None] == np.arange(self.size / 2)\n",
    "        ys_matrix = ys_batch[:, None] == np.arange(self.size / 2)\n",
    "        \n",
    "        matrix = torch.tensor(np.concatenate((xs_matrix, ys_matrix), 1)).float()\n",
    "       \n",
    "        out = self.model(matrix)\n",
    "        out = out.view(-1, 2, 200)\n",
    "        out = F.softmax(out, dim=2).view(-1, 400)\n",
    "        \n",
    "        return -torch.gather(out, 1, torch.tensor(batch)).log().sum() / batch.size"
   ]
  }
 ],
 "metadata": {
  "kernelspec": {
   "display_name": "Python 3",
   "language": "python",
   "name": "python3"
  },
  "language_info": {
   "codemirror_mode": {
    "name": "ipython",
    "version": 3
   },
   "file_extension": ".py",
   "mimetype": "text/x-python",
   "name": "python",
   "nbconvert_exporter": "python",
   "pygments_lexer": "ipython3",
   "version": "3.6.8"
  }
 },
 "nbformat": 4,
 "nbformat_minor": 2
}
