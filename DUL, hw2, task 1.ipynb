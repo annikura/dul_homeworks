{
 "cells": [
  {
   "cell_type": "code",
   "execution_count": 901,
   "metadata": {},
   "outputs": [],
   "source": [
    "import numpy as np\n",
    "import torch.optim as opt\n",
    "from torch import nn\n",
    "import torch\n",
    "from torch.distributions import Normal, Uniform\n",
    "import random\n",
    "from math import log\n",
    "import matplotlib.pyplot as plt\n",
    "import torch.nn.functional as F\n",
    "import plotly.graph_objects as go"
   ]
  },
  {
   "cell_type": "code",
   "execution_count": 902,
   "metadata": {},
   "outputs": [],
   "source": [
    "def sample_data():\n",
    "    count = 100000\n",
    "    rand = np.random.RandomState(0)\n",
    "    a = [[-1.5, 2.5]] + rand.randn(count // 3, 2) * 0.2\n",
    "    b = [[1.5, 2.5]] + rand.randn(count // 3, 2) * 0.2\n",
    "    c = np.c_[2 * np.cos(np.linspace(0, np.pi, count // 3)),\n",
    "    -np.sin(np.linspace(0, np.pi, count // 3))]\n",
    "\n",
    "    c += rand.randn(*c.shape) * 0.2\n",
    "    data_x = np.concatenate([a, b, c], axis=0)\n",
    "    data_y = np.array([0] * len(a) + [1] * len(b) + [2] * len(c))\n",
    "    perm = rand.permutation(len(data_x))\n",
    "    return data_x[perm], data_y[perm]"
   ]
  },
  {
   "cell_type": "code",
   "execution_count": 903,
   "metadata": {},
   "outputs": [],
   "source": [
    "data_x, data_y = sample_data()\n",
    "data_len = len(data_x)\n",
    "train    = data_x[:int(data_len * 0.8)]\n",
    "validate = data_x[ int(data_len * 0.8):int(data_len*0.99)]\n",
    "test     = data_x[int(data_len * 0.99):]"
   ]
  },
  {
   "cell_type": "code",
   "execution_count": 904,
   "metadata": {},
   "outputs": [],
   "source": [
    "class Multilayer(nn.Module):\n",
    "    def __init__(self, sizes):\n",
    "        super(Multilayer, self).__init__()\n",
    "        layers = []\n",
    "        for size, next_size in zip(sizes, sizes[1:]):\n",
    "            layers.append(nn.Linear(size, next_size))\n",
    "            layers.append(nn.ReLU())\n",
    "        layers.pop()\n",
    "        self.net = nn.Sequential(*layers)\n",
    "        \n",
    "    def forward(self, x):\n",
    "        return self.net(x)"
   ]
  },
  {
   "cell_type": "code",
   "execution_count": 905,
   "metadata": {},
   "outputs": [],
   "source": [
    "class NormalFlowLayer(nn.Module):\n",
    "    def __init__(self, sizes):\n",
    "        super(NormalFlowLayer, self).__init__()\n",
    "        self.pi = Multilayer(sizes)\n",
    "        self.mu = Multilayer(sizes)\n",
    "        self.si = Multilayer(sizes)\n",
    "        self.softmax = nn.Softmax(dim=1)\n",
    "        self.mu_relu = nn.ReLU()\n",
    "        self.si_relu = nn.ReLU()\n",
    "        \n",
    "    def forward(self, x):\n",
    "        return self.softmax(self.pi(x)), self.mu(x), self.si_relu(self.si(x)) + 0.00001"
   ]
  },
  {
   "cell_type": "code",
   "execution_count": 932,
   "metadata": {},
   "outputs": [],
   "source": [
    "class NormalFlowAutoregressor(nn.Module):\n",
    "    def __init__(self):\n",
    "        super(NormalFlowAutoregressor, self).__init__()\n",
    "        self.first_dim = NormalFlowLayer([1, 20])\n",
    "        self.second_dim = NormalFlowLayer([1, 50, 50, 20])\n",
    "        \n",
    "    def invert(self, zs):\n",
    "        xs = torch.tensor(zs[:, 0], requires_grad=False).view(-1, 1).float()\n",
    "        ys = torch.tensor(zs[:, 1], requires_grad=False).view(-1, 1).float()\n",
    "        result = []\n",
    "        \n",
    "        arg = nn.Parameter(torch.ones(xs.shape[0], requires_grad=False)).view(-1, 1).float()    \n",
    "        for x, model in [(xs, self.first_dim), (ys, self.second_dim)]:\n",
    "            pi, mu, si = model(arg)\n",
    "        \n",
    "            chosen_distr = torch.multinomial(pi, 1).view(-1, 1)\n",
    "            mu, si = torch.gather(mu, 1, chosen_distr), torch.gather(si, 1, chosen_distr)\n",
    "            result.append(Normal(mu, si).icdf(x))\n",
    "            arg = result[-1]\n",
    "        return result[0].detach().numpy(), result[1].detach().numpy()\n",
    "        \n",
    "    def latent(self, batch):\n",
    "        xs = torch.tensor(batch[:, 0], requires_grad=False).view(-1, 1).float()\n",
    "        ys = torch.tensor(batch[:, 1], requires_grad=False).view(-1, 1).float()\n",
    "        result = []\n",
    "        arg = nn.Parameter(torch.ones(xs.shape[0], requires_grad=False)).view(-1, 1).float()    \n",
    "        \n",
    "        for x, model in [(xs, self.first_dim), (ys, self.second_dim)]:\n",
    "            pi, mu, si = model(arg)\n",
    "            result.append(torch.sum(pi * Normal(mu, si).cdf(x.repeat(1, 20)), dim=1))\n",
    "            arg = x\n",
    "        return result[0], result[1]\n",
    "        \n",
    "    def forward(self, batch):\n",
    "        xs = torch.tensor(batch[:, 0], requires_grad=False).view(-1, 1).float()\n",
    "        ys = torch.tensor(batch[:, 1], requires_grad=False).view(-1, 1).float()\n",
    "        \n",
    "        fake_ones = nn.Parameter(torch.ones(batch.shape[0], requires_grad=False)).view(-1, 1).float()\n",
    "        \n",
    "        results = []\n",
    "        for x, (pi, mu, si) in [(xs, self.first_dim(fake_ones)),\n",
    "                                (ys, self.second_dim(xs))]:\n",
    "            results.append(torch.sum(pi * Normal(mu, si).log_prob(x).exp(), dim=1))\n",
    "        return results[0] * results[1]"
   ]
  },
  {
   "cell_type": "code",
   "execution_count": 933,
   "metadata": {},
   "outputs": [],
   "source": [
    "def learn(model, loss_function, epoches, batch_size, optimizer):\n",
    "    train_losses = []\n",
    "    validate_losses = []\n",
    "    iters_per_epoch = int(len(train) / batch_size)\n",
    "    \n",
    "    for epoch in range(epoches):\n",
    "        # np.random.shuffle(train)\n",
    "        for i in range(iters_per_epoch):\n",
    "            batch = train[i * batch_size:(i + 1) * batch_size]\n",
    "\n",
    "            train_error    = loss_function(model.forward(batch))\n",
    "            validate_error = loss_function(model.forward(validate))\n",
    "\n",
    "            train_losses.append(float(train_error))\n",
    "            validate_losses.append(float(validate_error))\n",
    "\n",
    "            print(\"\\rEpoch {}/{}. Iteration {}/{} Losses: train: {}, validate: {}\"\n",
    "              .format(epoch, epoches, i, iters_per_epoch, train_losses[-1], validate_losses[-1]), end=\"\")\n",
    "\n",
    "            train_error.backward()   \n",
    "            optimizer.step()\n",
    "            optimizer.zero_grad()\n",
    "    test_loss = float(loss_function(model.forward(test)))\n",
    "    return train_losses, validate_losses, test_loss"
   ]
  },
  {
   "cell_type": "code",
   "execution_count": 934,
   "metadata": {},
   "outputs": [
    {
     "name": "stdout",
     "output_type": "stream",
     "text": [
      "Epoch 19/20. Iteration 78/79 Losses: train: 1.3437079191207886, validate: 1.3843095302581787"
     ]
    }
   ],
   "source": [
    "def loss_function(x):\n",
    "    return -torch.mean(torch.log(x))\n",
    "model = NormalFlowAutoregressor()\n",
    "train_losses, validate_losses, test_loss = learn(model, loss_function, 20, 1000, opt.Adam(model.parameters(), lr=0.001))"
   ]
  },
  {
   "cell_type": "code",
   "execution_count": 935,
   "metadata": {},
   "outputs": [
    {
     "name": "stdout",
     "output_type": "stream",
     "text": [
      "Likelihood by iteration.\n"
     ]
    },
    {
     "data": {
      "text/plain": [
       "[<matplotlib.lines.Line2D at 0x7f50920e5320>,\n",
       " <matplotlib.lines.Line2D at 0x7f5091e88e48>]"
      ]
     },
     "execution_count": 935,
     "metadata": {},
     "output_type": "execute_result"
    },
    {
     "data": {
      "image/png": "[encoded data removed]",
      "text/plain": [
       "<Figure size 432x288 with 1 Axes>"
      ]
     },
     "metadata": {
      "needs_background": "light"
     },
     "output_type": "display_data"
    }
   ],
   "source": [
    "print(\"Likelihood by iteration.\")\n",
    "\n",
    "plt.yscale('log')\n",
    "plt.plot(range(0, len(train_losses)), train_losses, 'r',\n",
    "         range(0, len(validate_losses)), validate_losses, 'b')"
   ]
  },
  {
   "cell_type": "code",
   "execution_count": 936,
   "metadata": {},
   "outputs": [
    {
     "name": "stdout",
     "output_type": "stream",
     "text": [
      "Result on test (negative log likelyhood):  1.2975021600723267\n"
     ]
    }
   ],
   "source": [
    "print(\"Result on test (negative log likelyhood): \", test_loss)"
   ]
  },
  {
   "cell_type": "code",
   "execution_count": 937,
   "metadata": {
    "scrolled": true
   },
   "outputs": [
    {
     "name": "stderr",
     "output_type": "stream",
     "text": [
      "/usr/local/lib/python3.6/dist-packages/ipykernel_launcher.py:35: UserWarning:\n",
      "\n",
      "To copy construct from a tensor, it is recommended to use sourceTensor.clone().detach() or sourceTensor.clone().detach().requires_grad_(True), rather than torch.tensor(sourceTensor).\n",
      "\n",
      "/usr/local/lib/python3.6/dist-packages/ipykernel_launcher.py:36: UserWarning:\n",
      "\n",
      "To copy construct from a tensor, it is recommended to use sourceTensor.clone().detach() or sourceTensor.clone().detach().requires_grad_(True), rather than torch.tensor(sourceTensor).\n",
      "\n"
     ]
    },
    {
     "data": {
      "text/plain": [
       "<matplotlib.image.AxesImage at 0x7f5091dd28d0>"
      ]
     },
     "execution_count": 937,
     "metadata": {},
     "output_type": "execute_result"
    },
    {
     "data": {
      "image/png": "[encoded data removed]",
      "text/plain": [
       "<Figure size 432x288 with 1 Axes>"
      ]
     },
     "metadata": {
      "needs_background": "light"
     },
     "output_type": "display_data"
    }
   ],
   "source": [
    "d = np.linspace(-4, 4, 100)\n",
    "samples = np.array(np.meshgrid(d, d)).T.reshape([-1, 2])\n",
    "samples = torch.from_numpy(samples).float()\n",
    "pdf = model(samples).detach().numpy().reshape(100, 100)\n",
    "plt.imshow(np.rot90(pdf, 1))"
   ]
  },
  {
   "cell_type": "code",
   "execution_count": 942,
   "metadata": {
    "scrolled": true
   },
   "outputs": [
    {
     "name": "stderr",
     "output_type": "stream",
     "text": [
      "/usr/local/lib/python3.6/dist-packages/ipykernel_launcher.py:8: UserWarning:\n",
      "\n",
      "To copy construct from a tensor, it is recommended to use sourceTensor.clone().detach() or sourceTensor.clone().detach().requires_grad_(True), rather than torch.tensor(sourceTensor).\n",
      "\n",
      "/usr/local/lib/python3.6/dist-packages/ipykernel_launcher.py:9: UserWarning:\n",
      "\n",
      "To copy construct from a tensor, it is recommended to use sourceTensor.clone().detach() or sourceTensor.clone().detach().requires_grad_(True), rather than torch.tensor(sourceTensor).\n",
      "\n"
     ]
    },
    {
     "data": {
      "text/plain": [
       "<matplotlib.collections.PathCollection at 0x7f5091c7deb8>"
      ]
     },
     "execution_count": 942,
     "metadata": {},
     "output_type": "execute_result"
    },
    {
     "data": {
      "image/png": "[encoded data removed]",
      "text/plain": [
       "<Figure size 432x288 with 1 Axes>"
      ]
     },
     "metadata": {
      "needs_background": "light"
     },
     "output_type": "display_data"
    }
   ],
   "source": [
    "sample = Uniform(torch.tensor([0.0]), torch.tensor([1.0])).rsample((5000, 2))\n",
    "xs, ys = model.invert(sample)\n",
    "plt.figure()\n",
    "plt.scatter(xs, ys)"
   ]
  },
  {
   "cell_type": "code",
   "execution_count": 943,
   "metadata": {},
   "outputs": [
    {
     "name": "stderr",
     "output_type": "stream",
     "text": [
      "/usr/local/lib/python3.6/dist-packages/ipykernel_launcher.py:23: UserWarning:\n",
      "\n",
      "To copy construct from a tensor, it is recommended to use sourceTensor.clone().detach() or sourceTensor.clone().detach().requires_grad_(True), rather than torch.tensor(sourceTensor).\n",
      "\n",
      "/usr/local/lib/python3.6/dist-packages/ipykernel_launcher.py:24: UserWarning:\n",
      "\n",
      "To copy construct from a tensor, it is recommended to use sourceTensor.clone().detach() or sourceTensor.clone().detach().requires_grad_(True), rather than torch.tensor(sourceTensor).\n",
      "\n"
     ]
    },
    {
     "data": {
      "text/plain": [
       "<matplotlib.legend.Legend at 0x7f5091be0470>"
      ]
     },
     "execution_count": 943,
     "metadata": {},
     "output_type": "execute_result"
    },
    {
     "data": {
      "image/png": "[encoded data removed]",
      "text/plain": [
       "<Figure size 432x288 with 1 Axes>"
      ]
     },
     "metadata": {
      "needs_background": "light"
     },
     "output_type": "display_data"
    }
   ],
   "source": [
    "xs = torch.from_numpy(data_x).float()\n",
    "z1, z2 = model.latent(xs)\n",
    "z1 = z1.detach().numpy()\n",
    "z2 = z2.detach().numpy()\n",
    "plt.figure()\n",
    "plt.scatter(z1[data_y == 0], z2[data_y == 0], label='0')\n",
    "plt.scatter(z1[data_y == 1], z2[data_y == 1], label='1')\n",
    "plt.scatter(z1[data_y == 2], z2[data_y == 2], label='2')\n",
    "plt.legend()"
   ]
  },
  {
   "cell_type": "code",
   "execution_count": null,
   "metadata": {},
   "outputs": [],
   "source": []
  }
 ],
 "metadata": {
  "kernelspec": {
   "display_name": "Python 3",
   "language": "python",
   "name": "python3"
  },
  "language_info": {
   "codemirror_mode": {
    "name": "ipython",
    "version": 3
   },
   "file_extension": ".py",
   "mimetype": "text/x-python",
   "name": "python",
   "nbconvert_exporter": "python",
   "pygments_lexer": "ipython3",
   "version": "3.6.8"
  }
 },
 "nbformat": 4,
 "nbformat_minor": 2
}
