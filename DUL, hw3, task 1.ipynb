{
 "cells": [
  {
   "cell_type": "code",
   "execution_count": 1,
   "metadata": {},
   "outputs": [],
   "source": [
    "import numpy as np\n",
    "import torch.optim as opt\n",
    "from torch import nn\n",
    "import torch\n",
    "from torch.distributions import Normal, Uniform\n",
    "import random\n",
    "from math import log\n",
    "import matplotlib.pyplot as plt\n",
    "import torch.nn.functional as F\n",
    "import plotly.graph_objects as go\n",
    "\n",
    "import pickle"
   ]
  },
  {
   "cell_type": "code",
   "execution_count": 57,
   "metadata": {},
   "outputs": [],
   "source": [
    "with open('hw2_q2.pkl', 'rb') as file:\n",
    "    data = pickle.load(file)\n",
    "data['train'][:, :, :, [0, 1, 2]] = data['train'][:, :, :, [2, 1, 0]]\n",
    "data['test'][:, :, :, [0, 1, 2]] = data['test'][:, :, :, [2, 1, 0]]"
   ]
  },
  {
   "cell_type": "code",
   "execution_count": 55,
   "metadata": {},
   "outputs": [
    {
     "data": {
      "text/plain": [
       "(20000, 32, 32, 3)"
      ]
     },
     "execution_count": 55,
     "metadata": {},
     "output_type": "execute_result"
    }
   ],
   "source": [
    "data['train'].shape"
   ]
  },
  {
   "cell_type": "code",
   "execution_count": 54,
   "metadata": {},
   "outputs": [
    {
     "data": {
      "text/plain": [
       "<matplotlib.image.AxesImage at 0x7f7d235e0208>"
      ]
     },
     "execution_count": 54,
     "metadata": {},
     "output_type": "execute_result"
    },
    {
     "data": {
      "image/png": "[encoded data removed]",
      "text/plain": [
       "<Figure size 432x288 with 1 Axes>"
      ]
     },
     "metadata": {
      "needs_background": "light"
     },
     "output_type": "display_data"
    }
   ],
   "source": [
    "plt.imshow((data['train'] * 64)[100])"
   ]
  },
  {
   "cell_type": "code",
   "execution_count": 59,
   "metadata": {},
   "outputs": [],
   "source": [
    "train = data['train'].transpose(0, 3, 1, 2)\n",
    "test = data['test'].transpose(0, 3, 1, 2)"
   ]
  },
  {
   "cell_type": "code",
   "execution_count": 60,
   "metadata": {},
   "outputs": [],
   "source": [
    "class LossAggregator:\n",
    "    def __init__(self):\n",
    "        self.loss = 0\n",
    "\n",
    "class RealNVPLayer(nn.Module):\n",
    "    def __init__(self, h, w, inv, s, t, losser):\n",
    "        super(RealNVPLayer, self).__init__()\n",
    "        ranged = np.arange(h * w).reshape(h, w)\n",
    "        self.mask = torch.from_numpy(((ranged + ranged // w + inv) % 2).reshape(h * w))\n",
    "        self.s = s\n",
    "        self.t = t\n",
    "        self.losser = losser\n",
    "        \n",
    "    def forward(self, x):\n",
    "        self.losser.loss = (1 - self.mask) * self.s(self.mask * x) + self.losser.loss\n",
    "        return x * self.mask + (1 - self.mask) * (x * self.s(self.mask * x).exp() + self.t(self.mask * x))"
   ]
  },
  {
   "cell_type": "code",
   "execution_count": 61,
   "metadata": {},
   "outputs": [],
   "source": [
    "class GlowLayer(nn.Module):\n",
    "    def __init__(self, size, losser):\n",
    "        super(GlowLayer, self).__init__()\n",
    "        self.size = size\n",
    "        self.losser = losser\n",
    "        self.w = nn.Parameter(torch.ones(size))\n",
    "        self.b = nn.Parameter(torch.zeros(size))\n",
    "\n",
    "    def forward(self, x):\n",
    "        x = self.w * x + self.b\n",
    "        log_det = torch.log(self.w.abs() + 1e-9)\n",
    "        self.losser.loss += log_det\n",
    "        return x\n",
    "\n",
    "class RealNVP(nn.Module):\n",
    "    def __init__(self, h, w, num_of_layers, s_gen, t_gen):\n",
    "        super(RealNVP, self).__init__()\n",
    "        self.h = h\n",
    "        self.w = w\n",
    "        layers = []\n",
    "        self.losser = LossAggregator()\n",
    "        for i in range(num_of_layers):\n",
    "            layers.append(RealNVPLayer(h, w, i%2, s_gen(h, w), t_gen(h, w), self.losser))\n",
    "            layers.append(GlowLayer(h * w, self.losser))    \n",
    "        layers.append(nn.Sigmoid())\n",
    "        self.net = nn.Sequential(*layers)\n",
    "        \n",
    "    def forward(self, batch):\n",
    "        batch = torch.tensor(batch, requires_grad=False).view(-1, self.h * self.w).float()\n",
    "        self.losser.loss = 0\n",
    "        result = self.net(batch)\n",
    "        return result, torch.sum((self.losser.loss + torch.log(result * (1 - result) + 1e-9)).view(-1, 2), dim=1)"
   ]
  },
  {
   "cell_type": "code",
   "execution_count": null,
   "metadata": {},
   "outputs": [],
   "source": []
  }
 ],
 "metadata": {
  "kernelspec": {
   "display_name": "Python 3",
   "language": "python",
   "name": "python3"
  },
  "language_info": {
   "codemirror_mode": {
    "name": "ipython",
    "version": 3
   },
   "file_extension": ".py",
   "mimetype": "text/x-python",
   "name": "python",
   "nbconvert_exporter": "python",
   "pygments_lexer": "ipython3",
   "version": "3.6.8"
  }
 },
 "nbformat": 4,
 "nbformat_minor": 2
}
